{
 "cells": [
  {
   "cell_type": "markdown",
   "metadata": {},
   "source": [
    "# Função para encontrar um metabolito baseado em seu nome"
   ]
  },
  {
   "cell_type": "code",
   "execution_count": 1,
   "metadata": {},
   "outputs": [],
   "source": [
    "def find_metabolite(metabolite):\n",
    "    cont = 0\n",
    "    metabolites = {'id':'name'}\n",
    "    for i in model.metabolites:\n",
    "        if metabolite.lower() in i.name.lower():\n",
    "            metabolites[i.id] = i.name\n",
    "        cont+=1\n",
    "    return(metabolites)"
   ]
  },
  {
   "cell_type": "code",
   "execution_count": null,
   "metadata": {},
   "outputs": [],
   "source": [
    "# find_metabolite(nome do metabólito)"
   ]
  },
  {
   "cell_type": "markdown",
   "metadata": {},
   "source": [
    "# Função para encontrar uma reação baseada em reagentes e produtos"
   ]
  },
  {
   "cell_type": "code",
   "execution_count": 2,
   "metadata": {},
   "outputs": [],
   "source": [
    "def get_reaction(reactants,products):\n",
    "    if type(reactants) != list:\n",
    "        reactants = [reactants]\n",
    "    if type(products) != list:\n",
    "        products = [products]\n",
    "    products = list(map(lambda x: model.metabolites.get_by_id(x),products))\n",
    "    reactants = list(map(lambda x: model.metabolites.get_by_id(x),reactants))\n",
    "    for reaction in model.reactions:\n",
    "        if reaction.reversibility:\n",
    "            if any(item in products for item in reaction.products+reaction.reactants) and any(item in reactants for item in reaction.reactants+reaction.products):\n",
    "                return reaction\n",
    "            else:\n",
    "                continue\n",
    "        else:\n",
    "            if any(item in products for item in reaction.products) and any(item in reactants for item in reaction.reactants):\n",
    "                return(reaction)\n",
    "            else:\n",
    "                continue"
   ]
  },
  {
   "cell_type": "code",
   "execution_count": null,
   "metadata": {},
   "outputs": [],
   "source": [
    "#get_reaction(reagente,produto)"
   ]
  }
 ],
 "metadata": {
  "kernelspec": {
   "display_name": "Python 3",
   "language": "python",
   "name": "python3"
  },
  "language_info": {
   "codemirror_mode": {
    "name": "ipython",
    "version": 3
   },
   "file_extension": ".py",
   "mimetype": "text/x-python",
   "name": "python",
   "nbconvert_exporter": "python",
   "pygments_lexer": "ipython3",
   "version": "3.7.6"
  }
 },
 "nbformat": 4,
 "nbformat_minor": 4
}
