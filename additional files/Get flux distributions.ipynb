{
 "cells": [
  {
   "cell_type": "markdown",
   "metadata": {},
   "source": [
    "# Importing packages"
   ]
  },
  {
   "cell_type": "code",
   "execution_count": 2,
   "metadata": {},
   "outputs": [],
   "source": [
    "import cobra\n",
    "import pandas as pd\n",
    "import numpy as np"
   ]
  },
  {
   "cell_type": "markdown",
   "metadata": {},
   "source": [
    "# Importing metabolic model"
   ]
  },
  {
   "cell_type": "code",
   "execution_count": 3,
   "metadata": {},
   "outputs": [],
   "source": [
    "model = cobra.io.read_sbml_model(r'AH_model.xml')"
   ]
  },
  {
   "cell_type": "markdown",
   "metadata": {},
   "source": [
    "# Creating a dataframe with the optimized fluxes and saving it"
   ]
  },
  {
   "cell_type": "code",
   "execution_count": 5,
   "metadata": {
    "scrolled": true
   },
   "outputs": [],
   "source": [
    "df = model.optimize().fluxes.to_frame().reset_index()\n",
    "df['Reaction ID'] = df['index']\n",
    "df['Flux'] = df['fluxes']\n",
    "df = df[['Reaction ID','Flux']]\n",
    "reaction_name = []\n",
    "for i in df['Reaction ID'].values:\n",
    "    reaction_name.append(model.reactions.get_by_id(i).name)\n",
    "df['Reaction Name'] = reaction_name\n",
    "df[['Reaction ID','Reaction Name','Flux']].to_excel('Reactions.xlsx',index = False)"
   ]
  },
  {
   "cell_type": "code",
   "execution_count": 6,
   "metadata": {},
   "outputs": [
    {
     "data": {
      "text/html": [
       "<div>\n",
       "<style scoped>\n",
       "    .dataframe tbody tr th:only-of-type {\n",
       "        vertical-align: middle;\n",
       "    }\n",
       "\n",
       "    .dataframe tbody tr th {\n",
       "        vertical-align: top;\n",
       "    }\n",
       "\n",
       "    .dataframe thead th {\n",
       "        text-align: right;\n",
       "    }\n",
       "</style>\n",
       "<table border=\"1\" class=\"dataframe\">\n",
       "  <thead>\n",
       "    <tr style=\"text-align: right;\">\n",
       "      <th></th>\n",
       "      <th>Reaction ID</th>\n",
       "      <th>Flux</th>\n",
       "      <th>Reaction Name</th>\n",
       "    </tr>\n",
       "  </thead>\n",
       "  <tbody>\n",
       "    <tr>\n",
       "      <th>0</th>\n",
       "      <td>aaaab</td>\n",
       "      <td>0.0000</td>\n",
       "      <td>T00120_4501_C4__(1.0Formate(MITO)=&gt;1.0Formate(...</td>\n",
       "    </tr>\n",
       "    <tr>\n",
       "      <th>1</th>\n",
       "      <td>aaaac</td>\n",
       "      <td>0.0000</td>\n",
       "      <td>R04748_C4__((S)-Hydroxyhexanoyl-CoA+NAD+&lt;=&gt;3-O...</td>\n",
       "    </tr>\n",
       "    <tr>\n",
       "      <th>2</th>\n",
       "      <td>aaaad</td>\n",
       "      <td>0.0000</td>\n",
       "      <td>R04737_C4__((S)-3-Hydroxyhexadecanoyl-CoA+NAD+...</td>\n",
       "    </tr>\n",
       "    <tr>\n",
       "      <th>3</th>\n",
       "      <td>aaaae</td>\n",
       "      <td>0.0000</td>\n",
       "      <td>T00120_4513_C4__(1.0L-Aspartate4-semialdehyde(...</td>\n",
       "    </tr>\n",
       "    <tr>\n",
       "      <th>4</th>\n",
       "      <td>aaaaf</td>\n",
       "      <td>0.0000</td>\n",
       "      <td>T02578_0_0_2393_0_0_C7__(1.0ATP(CYTO)+1.0H2O(C...</td>\n",
       "    </tr>\n",
       "    <tr>\n",
       "      <th>...</th>\n",
       "      <td>...</td>\n",
       "      <td>...</td>\n",
       "      <td>...</td>\n",
       "    </tr>\n",
       "    <tr>\n",
       "      <th>2178</th>\n",
       "      <td>abigh</td>\n",
       "      <td>0.0000</td>\n",
       "      <td>T00016_1574_C9__(1.0alpha-Isopropylmalate(CYTO...</td>\n",
       "    </tr>\n",
       "    <tr>\n",
       "      <th>2179</th>\n",
       "      <td>EX_01477_</td>\n",
       "      <td>0.0000</td>\n",
       "      <td>R_EX_C02504_alpha-Isopropylmalate_C7H12O5</td>\n",
       "    </tr>\n",
       "    <tr>\n",
       "      <th>2180</th>\n",
       "      <td>HASA</td>\n",
       "      <td>0.2142</td>\n",
       "      <td>hyaluronan synthase</td>\n",
       "    </tr>\n",
       "    <tr>\n",
       "      <th>2181</th>\n",
       "      <td>HASB</td>\n",
       "      <td>0.2142</td>\n",
       "      <td>UDP-glucose:NAD+ 6-oxidoreductase</td>\n",
       "    </tr>\n",
       "    <tr>\n",
       "      <th>2182</th>\n",
       "      <td>EX_AH000_</td>\n",
       "      <td>0.2142</td>\n",
       "      <td>Exchange reaction AH</td>\n",
       "    </tr>\n",
       "  </tbody>\n",
       "</table>\n",
       "<p>2183 rows × 3 columns</p>\n",
       "</div>"
      ],
      "text/plain": [
       "     Reaction ID    Flux                                      Reaction Name\n",
       "0          aaaab  0.0000  T00120_4501_C4__(1.0Formate(MITO)=>1.0Formate(...\n",
       "1          aaaac  0.0000  R04748_C4__((S)-Hydroxyhexanoyl-CoA+NAD+<=>3-O...\n",
       "2          aaaad  0.0000  R04737_C4__((S)-3-Hydroxyhexadecanoyl-CoA+NAD+...\n",
       "3          aaaae  0.0000  T00120_4513_C4__(1.0L-Aspartate4-semialdehyde(...\n",
       "4          aaaaf  0.0000  T02578_0_0_2393_0_0_C7__(1.0ATP(CYTO)+1.0H2O(C...\n",
       "...          ...     ...                                                ...\n",
       "2178       abigh  0.0000  T00016_1574_C9__(1.0alpha-Isopropylmalate(CYTO...\n",
       "2179   EX_01477_  0.0000          R_EX_C02504_alpha-Isopropylmalate_C7H12O5\n",
       "2180        HASA  0.2142                                hyaluronan synthase\n",
       "2181        HASB  0.2142                  UDP-glucose:NAD+ 6-oxidoreductase\n",
       "2182   EX_AH000_  0.2142                               Exchange reaction AH\n",
       "\n",
       "[2183 rows x 3 columns]"
      ]
     },
     "execution_count": 6,
     "metadata": {},
     "output_type": "execute_result"
    }
   ],
   "source": [
    "df"
   ]
  }
 ],
 "metadata": {
  "kernelspec": {
   "display_name": "Python 3",
   "language": "python",
   "name": "python3"
  },
  "language_info": {
   "codemirror_mode": {
    "name": "ipython",
    "version": 3
   },
   "file_extension": ".py",
   "mimetype": "text/x-python",
   "name": "python",
   "nbconvert_exporter": "python",
   "pygments_lexer": "ipython3",
   "version": "3.7.6"
  }
 },
 "nbformat": 4,
 "nbformat_minor": 4
}
