{
 "cells": [
  {
   "cell_type": "code",
   "execution_count": null,
   "metadata": {},
   "outputs": [],
   "source": [
    "import cobra"
   ]
  },
  {
   "cell_type": "code",
   "execution_count": null,
   "metadata": {},
   "outputs": [],
   "source": [
    "model = cobra.io.read_sbml_model('AH_model.xml')"
   ]
  },
  {
   "cell_type": "code",
   "execution_count": null,
   "metadata": {},
   "outputs": [],
   "source": [
    "class Graph():\n",
    "    def __init__(self):\n",
    "        \"\"\"\n",
    "        self.edges is a dict of all possible next nodes\n",
    "        e.g. {'X': ['A', 'B', 'C', 'E'], ...}\n",
    "        self.weights has all the weights between two nodes,\n",
    "        with the two nodes as a tuple as the key\n",
    "        e.g. {('X', 'A'): 7, ('X', 'B'): 2, ...}\n",
    "        \"\"\"\n",
    "        self.edges = defaultdict(list)\n",
    "        self.weights = {}\n",
    "    \n",
    "    def add_edge(self, from_node, to_node, weight):\n",
    "        # Note: assumes edges are bi-directional\n",
    "        self.edges[from_node].append(to_node)\n",
    "        self.edges[to_node].append(from_node)\n",
    "        self.weights[(from_node, to_node)] = weight\n",
    "        self.weights[(to_node, from_node)] = weight"
   ]
  },
  {
   "cell_type": "code",
   "execution_count": null,
   "metadata": {},
   "outputs": [],
   "source": [
    "prod = []\n",
    "reac = []\n",
    "for reaction in model.reactions:\n",
    "    if '<=>' in reaction.reaction:\n",
    "        reaction = reaction.reaction.split('<=>')\n",
    "        reac.append(list(map(lambda x: x[-5:],str(reaction[0]).replace(' ','').split('+'))))\n",
    "        prod.append(list(map(lambda x: x[-5:],str(reaction[1]).replace(' ','').split('+'))))\n",
    "        reac.append(list(map(lambda x: x[-5:],str(reaction[1]).replace(' ','').split('+'))))\n",
    "        prod.append(list(map(lambda x: x[-5:],str(reaction[0]).replace(' ','').split('+'))))\n",
    "    elif '-->' in reaction.reaction:\n",
    "        reaction = reaction.reaction.split('-->')\n",
    "        reac.append(list(map(lambda x: x[-5:],str(reaction[0]).replace(' ','').split('+'))))\n",
    "        prod.append(list(map(lambda x: x[-5:],str(reaction[1]).replace(' ','').split('+'))))\n",
    "reac = list(map(lambda x: list(set(x)),reac))\n",
    "prod = list(map(lambda x: list(set(x)),prod))\n",
    "graph = {}\n",
    "cont = 0\n",
    "for i in reac:\n",
    "    cont+=1\n",
    "    for j in i:\n",
    "        if j in graph.keys():\n",
    "            graph[j].append(prod[cont-1])\n",
    "        else:\n",
    "            graph[j] = []\n",
    "            for h in prod[cont-1]:\n",
    "                graph[j].append(h)\n",
    "for i in graph.keys():\n",
    "    if type(graph[i]) == str:\n",
    "        new = [graph[i]]\n",
    "    else:\n",
    "        new = []\n",
    "        for j in graph[i]:\n",
    "            if type(j) !=str:\n",
    "                new+=j\n",
    "            else:\n",
    "                new.append(j)\n",
    "    graph[i] = new"
   ]
  },
  {
   "cell_type": "code",
   "execution_count": null,
   "metadata": {},
   "outputs": [],
   "source": [
    "edges = []\n",
    "block = ['C00015','C00080','C00001',\n",
    "         'C00003','C00004','C00001',\n",
    "         'C00002','C00105','C00075',\n",
    "         'C00004','C00005','C00006',\n",
    "         'C00003']#add metabolites (kegg id) that cant count as step for path eg. ATP\n",
    "big_w = []\n",
    "for i in block:\n",
    "    big_w = big_w+list(find_metabolite(i).keys())[1:]\n",
    "for start in graph:\n",
    "    if start == '':\n",
    "        continue\n",
    "    for end in graph[start]:\n",
    "        if end == '':\n",
    "            continue\n",
    "        #add weight\n",
    "        if start in big_w:\n",
    "            vertex = (start,end,1000)\n",
    "        elif end in big_w:\n",
    "            vertex = (start,end,1000)\n",
    "        else:\n",
    "            vertex = (start,end,1)\n",
    "        edges.append(vertex)"
   ]
  },
  {
   "cell_type": "code",
   "execution_count": null,
   "metadata": {},
   "outputs": [],
   "source": [
    "graph = Graph()\n",
    "for edge in edges:\n",
    "    graph.add_edge(*edge)"
   ]
  },
  {
   "cell_type": "markdown",
   "metadata": {},
   "source": [
    "# Algoritmo de dijsktra"
   ]
  },
  {
   "cell_type": "code",
   "execution_count": null,
   "metadata": {},
   "outputs": [],
   "source": [
    "def dijsktra(graph, initial, end):\n",
    "    # shortest paths is a dict of nodes\n",
    "    # whose value is a tuple of (previous node, weight)\n",
    "    shortest_paths = {initial: (None, 0)}\n",
    "    current_node = initial\n",
    "    visited = set()\n",
    "    \n",
    "    while current_node != end:\n",
    "        visited.add(current_node)\n",
    "        destinations = graph.edges[current_node]\n",
    "        weight_to_current_node = shortest_paths[current_node][1]\n",
    "\n",
    "        for next_node in destinations:\n",
    "            weight = graph.weights[(current_node, next_node)] + weight_to_current_node\n",
    "            if next_node not in shortest_paths:\n",
    "                shortest_paths[next_node] = (current_node, weight)\n",
    "            else:\n",
    "                current_shortest_weight = shortest_paths[next_node][1]\n",
    "                if current_shortest_weight > weight:\n",
    "                    shortest_paths[next_node] = (current_node, weight)\n",
    "        \n",
    "        next_destinations = {node: shortest_paths[node] for node in shortest_paths if node not in visited}\n",
    "        if not next_destinations:\n",
    "            return \"Route Not Possible\"\n",
    "        # next node is the destination with the lowest weight\n",
    "        current_node = min(next_destinations, key=lambda k: next_destinations[k][1])\n",
    "    \n",
    "    # Work back through destinations in shortest path\n",
    "    path = []\n",
    "    while current_node is not None:\n",
    "        path.append(current_node)\n",
    "        next_node = shortest_paths[current_node][0]\n",
    "        current_node = next_node\n",
    "    # Reverse path\n",
    "    path = path[::-1]\n",
    "    #return path\n",
    "    #returning the path with the names instead of ids\n",
    "    ids =list(map(lambda x: model.metabolites.get_by_id(x).name, path))\n",
    "    return dict(zip(path, ids))"
   ]
  },
  {
   "cell_type": "code",
   "execution_count": null,
   "metadata": {},
   "outputs": [],
   "source": [
    "#dijsktra(graph,reagente,Produto)"
   ]
  }
 ],
 "metadata": {
  "kernelspec": {
   "display_name": "Python 3",
   "language": "python",
   "name": "python3"
  },
  "language_info": {
   "codemirror_mode": {
    "name": "ipython",
    "version": 3
   },
   "file_extension": ".py",
   "mimetype": "text/x-python",
   "name": "python",
   "nbconvert_exporter": "python",
   "pygments_lexer": "ipython3",
   "version": "3.7.6"
  }
 },
 "nbformat": 4,
 "nbformat_minor": 4
}
